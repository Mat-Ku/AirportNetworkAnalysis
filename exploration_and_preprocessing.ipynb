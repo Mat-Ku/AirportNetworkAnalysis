{
 "cells": [
  {
   "cell_type": "code",
   "execution_count": 1,
   "metadata": {},
   "outputs": [],
   "source": [
    "# 0. LOAD PACKAGES\n",
    "\n",
    "import numpy as np\n",
    "import networkx\n",
    "import pandas as pd\n",
    "import matplotlib.pyplot as plt\n",
    "from geopy.geocoders import Nominatim"
   ]
  },
  {
   "cell_type": "code",
   "execution_count": 2,
   "metadata": {},
   "outputs": [],
   "source": [
    "# 1. LOAD DATA\n",
    "\n",
    "# Load airport names and locations\n",
    "airports_df = pd.read_csv('*/Full_Merge_of_All_Unique Airports.csv')\n",
    "\n",
    "# Load airline routes\n",
    "routes_df = pd.read_csv('*/Full_Merge_of_All_Unique_Routes.csv')"
   ]
  },
  {
   "cell_type": "code",
   "execution_count": 3,
   "metadata": {},
   "outputs": [
    {
     "name": "stdout",
     "output_type": "stream",
     "text": [
      "                                            Label   ID   Latitude   Longitude\n",
      "0                                  Goroka Airport  GKA  -6.081690  145.391998\n",
      "1                                  Madang Airport  MAG  -5.207080  145.789001\n",
      "2                    Mount Hagen Kagamuga Airport  HGU  -5.826790  144.296005\n",
      "3                                  Nadzab Airport  LAE  -6.569803  146.725977\n",
      "4     Port Moresby Jacksons International Airport  POM  -9.443380  147.220001\n",
      "...                                           ...  ...        ...         ...\n",
      "9070                            Liangping Airport  LIA  30.679399  107.786003\n",
      "9071                           Öndörkhaan Airport  UNR  47.304860  110.609200\n",
      "9072         Chengdu Tianfu International Airport  TFU  30.312520  104.441284\n",
      "9073                     Chongqing Wushan Airport  WSK  31.068960  109.708958\n",
      "9074                                Jilin Airport  JIL  44.002201  126.396004\n",
      "\n",
      "[9075 rows x 4 columns]\n",
      "      Airline ID Departure Destination\n",
      "0             2B       AER         KZN\n",
      "1             2B       ASF         KZN\n",
      "2             2B       ASF         MRV\n",
      "3             2B       CEK         KZN\n",
      "4             2B       CEK         OVB\n",
      "...          ...       ...         ...\n",
      "92690         UA       PIR         ATY\n",
      "92691         UA       CGI         PAH\n",
      "92692         UA       ATY         DEN\n",
      "92693         UA       ATY         PIR\n",
      "92694         UA       SLN         ORD\n",
      "\n",
      "[92695 rows x 3 columns]\n"
     ]
    }
   ],
   "source": [
    "# 2. EXPLORE DATA\n",
    "\n",
    "print(airports_df)\n",
    "print(routes_df)"
   ]
  },
  {
   "cell_type": "markdown",
   "metadata": {},
   "source": [
    "Data exploration shows that airport locations are given as latitude and longitude values. However, in order to determine whether an airport is located in a developed or in a developing country, those values are worthless and must therefore be turned into country names."
   ]
  },
  {
   "cell_type": "code",
   "execution_count": 9,
   "metadata": {},
   "outputs": [],
   "source": [
    "# 3. DETERMINE COUNTRY NAMES\n",
    "\n",
    "# Turn dataframe into array in order to speed up loop speed and make all entries a string (=necessary for Nominatim API)\n",
    "airports_ar = np.asarray(airports_df, dtype='str')\n",
    "routes_ar = np.asarray(routes_df, dtype='str')\n",
    "\n",
    "# Initialize Nominatim API\n",
    "geolocator = Nominatim(user_agent=\"geoapiExercises\")\n",
    "\n",
    "# Use latitude and longitude values for determining the country with the help of Nominatim API\n",
    "# This can take a while. It is also possible that the code might crash, showing a 502 Error, which means that \n",
    "# the Nominatim API received too many requests. In this case, run this cell again.\n",
    "countries = []\n",
    "for row in airports_ar:\n",
    "    location = geolocator.reverse(row[2]+\",\"+row[3], language = 'en')\n",
    "    if location == None:\n",
    "        countries.append('None')\n",
    "    else:\n",
    "        address = location.raw['address']\n",
    "        country = address.get('country')\n",
    "        countries.append(country)\n",
    "        \n",
    "# Add 'countries' as last column to 'airports_ar'\n",
    "airports_ar = np.insert(airports_ar, 4, np.asarray(countries), axis=1)"
   ]
  },
  {
   "cell_type": "code",
   "execution_count": 27,
   "metadata": {},
   "outputs": [],
   "source": [
    "# Identify all entries where country = 'None' and delete them\n",
    "del_inds = [i for i in range(len(airports_ar)) if airports_ar[i][4] == 'None']\n",
    "airports_ar = np.asarray([airports_ar[i] for i in range(len(airports_ar)) if i not in del_inds])\n",
    "\n",
    "# Save result in dataframe, omitting latitude and longitude since they are not importan anymore\n",
    "airports_df_final = pd.DataFrame(data = list(zip(airports_ar[:, 0], airports_ar[:, 1], airports_ar[:, 4])),\n",
    "                                columns = ['Name', 'Airport_ID', 'Country'])"
   ]
  },
  {
   "cell_type": "code",
   "execution_count": 33,
   "metadata": {},
   "outputs": [],
   "source": [
    "# 4. SAVE DATA\n",
    "\n",
    "airports_df_final.to_csv('*/Airports_IDs_Countries.csv', index=False, header=True)"
   ]
  }
 ],
 "metadata": {
  "kernelspec": {
   "display_name": "Python 3",
   "language": "python",
   "name": "python3"
  },
  "language_info": {
   "codemirror_mode": {
    "name": "ipython",
    "version": 3
   },
   "file_extension": ".py",
   "mimetype": "text/x-python",
   "name": "python",
   "nbconvert_exporter": "python",
   "pygments_lexer": "ipython3",
   "version": "3.7.6"
  }
 },
 "nbformat": 4,
 "nbformat_minor": 4
}
